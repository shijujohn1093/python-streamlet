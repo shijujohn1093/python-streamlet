{
 "cells": [
  {
   "cell_type": "code",
   "execution_count": 1,
   "metadata": {},
   "outputs": [
    {
     "name": "stdout",
     "output_type": "stream",
     "text": [
      "Hello \n",
      "World !\n"
     ]
    }
   ],
   "source": [
    "print(\"Hello \\nWorld !\")"
   ]
  },
  {
   "cell_type": "code",
   "execution_count": 2,
   "metadata": {},
   "outputs": [
    {
     "name": "stdout",
     "output_type": "stream",
     "text": [
      "11.0\n",
      "<class 'int'>\n",
      "<class 'int'>\n",
      "<class 'str'>\n",
      "<class 'bool'>\n",
      "148\n",
      "4.166666666666667\n",
      "4\n",
      "Joh\n",
      "10\n",
      "SHiju JohnSHiju JohnSHiju John\n",
      "Hello Wor\\ld\n",
      "SHIJU JOHN\n",
      "6\n",
      "SiuJh\n"
     ]
    }
   ],
   "source": [
    "myNumber = 11\n",
    "myName  = \"SHiju John\"\n",
    "myFlot = 11.11\n",
    "myCondition = True\n",
    "print(float(myNumber))\n",
    "print(type(myNumber) )\n",
    "print(type(myNumber))\n",
    "print(type(myName))\n",
    "print(type(myCondition))\n",
    "print(43+60+45)\n",
    "print(25/6)\n",
    "print(25//6)\n",
    "print(myName[6:9])\n",
    "print(len(myName))\n",
    "print( 3*myName)\n",
    "print(r\"Hello Wor\\ld\")\n",
    "print(myName.upper())\n",
    "print(myName.find(\"Joh\"))\n",
    "print(myName[::2])"
   ]
  },
  {
   "cell_type": "markdown",
   "metadata": {},
   "source": [
    "# List and Tuples"
   ]
  },
  {
   "cell_type": "code",
   "execution_count": 12,
   "metadata": {},
   "outputs": [
    {
     "name": "stdout",
     "output_type": "stream",
     "text": [
      "rock\n",
      "7878\n"
     ]
    }
   ],
   "source": [
    "tuple1 = (\"dusco\", 1 ,15 , 1.2)\n",
    "\n",
    "tuple2 = tuple1 + (\"hard rock\", 10)\n",
    "\n",
    "tuple3 = (1, (\"pop\", \"rock\"), (3,4), 7878)\n",
    "\n",
    "print(tuple3[1][1])\n",
    "print(tuple3[-1])"
   ]
  },
  {
   "cell_type": "markdown",
   "metadata": {},
   "source": []
  },
  {
   "cell_type": "code",
   "execution_count": 17,
   "metadata": {},
   "outputs": [
    {
     "name": "stdout",
     "output_type": "stream",
     "text": [
      "{1, ('pop', 'rock'), (3, 4), 7878}\n",
      "True\n",
      "False\n"
     ]
    }
   ],
   "source": [
    "set1 = {\"classical\",\"rock\", \"soul\", \"hard\", \"jazz\"}\n",
    "set2 = set(tuple3)\n",
    "print(set2)\n",
    "print(7878 in set2)\n",
    "print(7978 in set2)"
   ]
  },
  {
   "cell_type": "code",
   "execution_count": 28,
   "metadata": {},
   "outputs": [
    {
     "name": "stdout",
     "output_type": "stream",
     "text": [
      "['white0', 'white1', 'white2', 'white3', 'white4']\n"
     ]
    }
   ],
   "source": [
    "squares = [\"red\",\"yellow\",\"green\",\"purple\",\"yellow\",\"blue\"]\n",
    "newSquare = [None] * len(squares)\n",
    "for i in range(0, len(squares)):\n",
    "    newSquare[i] = \"white\"+str(i)\n",
    "\n",
    "print(newSquare)"
   ]
  },
  {
   "cell_type": "code",
   "execution_count": 30,
   "metadata": {},
   "outputs": [
    {
     "name": "stdout",
     "output_type": "stream",
     "text": [
      "red 0\n",
      "yello 1\n",
      "green 2\n",
      "purple 3\n",
      "blue 4\n"
     ]
    }
   ],
   "source": [
    "for i, square in enumerate(squares):\n",
    "    print(square + \" \"+ str(i))"
   ]
  },
  {
   "cell_type": "code",
   "execution_count": 42,
   "metadata": {},
   "outputs": [
    {
     "name": "stdout",
     "output_type": "stream",
     "text": [
      "red\n",
      "['red']\n"
     ]
    }
   ],
   "source": [
    "squares = ['red','yellow','green','purple','yellow','blue']\n",
    "newSquares = []\n",
    "i = 0\n",
    "while(squares[i]!='yellow'):\n",
    "    print(squares[i])\n",
    "    newSquares.append(squares[i])\n",
    "    i = i+1\n",
    "print(newSquares)"
   ]
  },
  {
   "cell_type": "code",
   "execution_count": null,
   "metadata": {},
   "outputs": [],
   "source": []
  }
 ],
 "metadata": {
  "kernelspec": {
   "display_name": "venv_sl",
   "language": "python",
   "name": "python3"
  },
  "language_info": {
   "codemirror_mode": {
    "name": "ipython",
    "version": 3
   },
   "file_extension": ".py",
   "mimetype": "text/x-python",
   "name": "python",
   "nbconvert_exporter": "python",
   "pygments_lexer": "ipython3",
   "version": "3.12.3"
  }
 },
 "nbformat": 4,
 "nbformat_minor": 2
}
